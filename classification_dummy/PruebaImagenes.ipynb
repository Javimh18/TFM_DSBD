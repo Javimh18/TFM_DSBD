{
  "cells": [
    {
      "cell_type": "code",
      "execution_count": 15,
      "metadata": {
        "colab": {
          "base_uri": "https://localhost:8080/"
        },
        "id": "CMjt6-b9ct4q",
        "outputId": "c2462504-8232-467e-9221-4478e00a5e6f"
      },
      "outputs": [],
      "source": [
        "# Load the Drive helper and mount\n",
        "# from google.colab import drive\n",
        "\n",
        "# This will prompt for authorization.\n",
        "# drive.mount('/content/drive')\n",
        "\n",
        "# trainfull_data = pd.read_csv('/content/drive/MyDrive/ColabNotebooks/TFM/archive/sign_mnist_train.csv')\n",
        "# test_data = pd.read_csv('/content/drive/MyDrive/ColabNotebooks/TFM/archive/sign_mnist_test.csv')"
      ]
    },
    {
      "cell_type": "code",
      "execution_count": 16,
      "metadata": {
        "id": "nUCTDsDBdzfv"
      },
      "outputs": [],
      "source": [
        "# import data to pandas Dataframe\n",
        "import pandas as pd\n",
        "import numpy as np\n",
        "\n",
        "test_data = pd.read_csv(\"../mnist_sign_language/sign_mnist_test.csv\")\n",
        "trainfull_data = pd.read_csv(\"../mnist_sign_language/sign_mnist_train.csv\")"
      ]
    },
    {
      "cell_type": "code",
      "execution_count": 17,
      "metadata": {
        "id": "ZEccMOAYiJQz"
      },
      "outputs": [],
      "source": [
        "X_train = trainfull_data.values[:, 1:].reshape(-1, 28, 28)\n",
        "X_test = test_data.values[:, 1:].reshape(-1, 28, 28)\n",
        "\n",
        "Y_train = trainfull_data.values[:, :1]\n",
        "Y_test = test_data.values[:, :1]"
      ]
    },
    {
      "cell_type": "code",
      "execution_count": 18,
      "metadata": {
        "colab": {
          "base_uri": "https://localhost:8080/"
        },
        "id": "F9L00wfYuWws",
        "outputId": "9c18fa1e-355d-41ee-d534-60c86d31511b"
      },
      "outputs": [
        {
          "data": {
            "text/plain": [
              "array([[[149, 149, 150, ..., 150, 150, 149],\n",
              "        [150, 150, 150, ..., 151, 150, 151],\n",
              "        [150, 151, 151, ..., 151, 151, 152],\n",
              "        ...,\n",
              "        [ 69,  69,  77, ..., 116, 113, 118],\n",
              "        [ 74,  75,  76, ..., 110, 116, 113],\n",
              "        [ 75,  74,  74, ..., 112, 120, 107]],\n",
              "\n",
              "       [[126, 128, 131, ..., 133, 134, 132],\n",
              "        [129, 132, 134, ..., 136, 136, 134],\n",
              "        [133, 135, 138, ..., 140, 139, 138],\n",
              "        ...,\n",
              "        [173, 174, 177, ..., 184, 182, 181],\n",
              "        [172, 174, 177, ..., 184, 182, 181],\n",
              "        [172, 174, 177, ..., 184, 182, 180]],\n",
              "\n",
              "       [[ 85,  88,  92, ..., 182, 181, 178],\n",
              "        [ 86,  88,  93, ..., 183, 181, 179],\n",
              "        [ 86,  89,  93, ..., 185, 183, 181],\n",
              "        ...,\n",
              "        [ 91,  94,  97, ..., 224, 222, 221],\n",
              "        [ 90,  92,  96, ..., 225, 224, 222],\n",
              "        [ 89,  91,  94, ..., 225, 224, 222]],\n",
              "\n",
              "       ...,\n",
              "\n",
              "       [[190, 191, 190, ..., 185, 184, 183],\n",
              "        [193, 193, 193, ..., 186, 185, 184],\n",
              "        [195, 194, 195, ..., 187, 186, 187],\n",
              "        ...,\n",
              "        [214, 215, 213, ..., 208, 208, 208],\n",
              "        [214, 215, 209, ..., 209, 208, 207],\n",
              "        [215, 215, 207, ..., 211, 209, 208]],\n",
              "\n",
              "       [[201, 205, 208, ..., 239, 239, 239],\n",
              "        [206, 209, 212, ..., 242, 242, 242],\n",
              "        [210, 214, 216, ..., 246, 245, 244],\n",
              "        ...,\n",
              "        [255, 255, 255, ..., 255, 200, 142],\n",
              "        [255, 255, 255, ...,  99,  80,  77],\n",
              "        [255, 255, 255, ...,  67,  70,  63]],\n",
              "\n",
              "       [[173, 174, 173, ..., 168, 167, 166],\n",
              "        [176, 176, 176, ..., 168, 168, 167],\n",
              "        [178, 177, 178, ..., 169, 168, 169],\n",
              "        ...,\n",
              "        [198, 199, 199, ..., 192, 192, 192],\n",
              "        [198, 200, 193, ..., 193, 192, 191],\n",
              "        [199, 201, 190, ..., 195, 193, 192]]])"
            ]
          },
          "execution_count": 18,
          "metadata": {},
          "output_type": "execute_result"
        }
      ],
      "source": [
        "X_test"
      ]
    },
    {
      "cell_type": "code",
      "execution_count": 19,
      "metadata": {
        "colab": {
          "base_uri": "https://localhost:8080/"
        },
        "id": "-F2X0UNMubze",
        "outputId": "18d377d5-cc26-48c7-fc85-5104617995d1"
      },
      "outputs": [
        {
          "data": {
            "text/plain": [
              "array([[ 6],\n",
              "       [ 5],\n",
              "       [10],\n",
              "       ...,\n",
              "       [ 2],\n",
              "       [ 4],\n",
              "       [ 2]])"
            ]
          },
          "execution_count": 19,
          "metadata": {},
          "output_type": "execute_result"
        }
      ],
      "source": [
        "Y_test"
      ]
    },
    {
      "cell_type": "code",
      "execution_count": 20,
      "metadata": {
        "colab": {
          "base_uri": "https://localhost:8080/",
          "height": 283
        },
        "id": "MzlEkJpygW36",
        "outputId": "7cdfc0e2-bd66-4018-bd97-8dd63c920a83"
      },
      "outputs": [
        {
          "data": {
            "text/plain": [
              "<matplotlib.image.AxesImage at 0x7ff1c5b12140>"
            ]
          },
          "execution_count": 20,
          "metadata": {},
          "output_type": "execute_result"
        },
        {
          "data": {
            "image/png": "[encoded data removed]",
            "text/plain": [
              "<Figure size 1500x500 with 1 Axes>"
            ]
          },
          "metadata": {},
          "output_type": "display_data"
        }
      ],
      "source": [
        "import matplotlib.pyplot as plt\n",
        "\n",
        "plt.imshow(X_train[2], cmap='gray')"
      ]
    },
    {
      "cell_type": "code",
      "execution_count": 21,
      "metadata": {
        "id": "iLiGorNIK3gd"
      },
      "outputs": [],
      "source": [
        "import os\n",
        "os.environ[\"TF_CPP_MIN_LOG_LEVEL\"] = \"3\"\n",
        "\n",
        "from tensorflow.python.util import deprecation\n",
        "deprecation._PRINT_DEPRECATION_WARNINGS = False\n",
        "\n",
        "import tensorflow as tf\n",
        "gpu_devices = tf.config.experimental.list_physical_devices(\"GPU\")\n",
        "\n",
        "for device in gpu_devices:\n",
        "    tf.config.experimental.set_memory_growth(device, True)\n",
        "\n",
        "from tensorflow import keras\n",
        "\n",
        "import numpy as np\n",
        "import pandas as pd\n",
        "import matplotlib\n",
        "import matplotlib.pyplot as plt\n",
        "matplotlib.rc(\"figure\", figsize=(15,5))\n",
        "\n",
        "IMAGE_RES_X = 28\n",
        "IMAGE_RES_Y = 28"
      ]
    },
    {
      "cell_type": "code",
      "execution_count": 28,
      "metadata": {
        "colab": {
          "base_uri": "https://localhost:8080/"
        },
        "id": "TwC-t10uLFKt",
        "outputId": "13642828-b759-4784-a957-d03208665ee4"
      },
      "outputs": [
        {
          "name": "stdout",
          "output_type": "stream",
          "text": [
            "WARNING:tensorflow:Using a while_loop for converting RngReadAndSkip cause there is no registered converter for this op.\n",
            "WARNING:tensorflow:Using a while_loop for converting Bitcast cause there is no registered converter for this op.\n",
            "WARNING:tensorflow:Using a while_loop for converting Bitcast cause there is no registered converter for this op.\n",
            "WARNING:tensorflow:Using a while_loop for converting StatelessRandomUniformV2 cause there is no registered converter for this op.\n",
            "WARNING:tensorflow:Using a while_loop for converting ImageProjectiveTransformV3 cause there is no registered converter for this op.\n"
          ]
        }
      ],
      "source": [
        "model_sign_recognition = keras.Sequential([\n",
        "        # Input of form 28*28*1 (Just one channel of color, grayscale)\n",
        "        keras.layers.Input(shape=(IMAGE_RES_X, IMAGE_RES_Y, 1)),\n",
        "\n",
        "        # Neurons do not work with non-normalized data, son we standarized the data in a [0, 1] interval\n",
        "        keras.layers.Rescaling(1./255),\n",
        "\n",
        "        # We do a little of data augmentation, to expand our dataset\n",
        "        keras.layers.RandomFlip(mode=\"horizontal\"),\n",
        "        keras.layers.RandomRotation(factor=0.1),\n",
        "        keras.layers.RandomZoom(),\n",
        "\n",
        "        # We apply BatchNormalization in order to... TODO: Understand how BatchNormalization works and\n",
        "        # why it is so useful\n",
        "        keras.layers.BatchNormalization(),\n",
        "\n",
        "        # We apply some convolutions, in order to extract features from the images\n",
        "        keras.layers.Conv2D(filters=32, kernel_size=(2,2), activation='relu'),\n",
        "        keras.layers.MaxPool2D(pool_size=(2, 2)),\n",
        "        keras.layers.Conv2D(filters=48, kernel_size=(2,2), activation='relu'),\n",
        "        keras.layers.MaxPool2D(pool_size=(2, 2)),\n",
        "        keras.layers.Conv2D(filters=48, kernel_size=(2,2), activation='relu'),\n",
        "\n",
        "        # Now we flatten the 3D vectors to the Dense layers, in order to make classifications\n",
        "        keras.layers.Flatten(),\n",
        "        keras.layers.Dense(units=96, activation='relu'),\n",
        "\n",
        "        # In order to do not make some neurons connection-dependent from others we use the Dropout layer\n",
        "        keras.layers.Dropout(0.5),\n",
        "\n",
        "        # Now to the output layer, there are 24 classes, so we need 24 output neurons\n",
        "        keras.layers.Dense(units=25, activation='softmax')\n",
        "    ]\n",
        ")"
      ]
    },
    {
      "cell_type": "code",
      "execution_count": 24,
      "metadata": {
        "colab": {
          "base_uri": "https://localhost:8080/"
        },
        "id": "XulpYRumn6RB",
        "outputId": "9e84827a-fb92-480c-8e97-b97af8ee8966"
      },
      "outputs": [
        {
          "name": "stdout",
          "output_type": "stream",
          "text": [
            "Model: \"sequential_1\"\n",
            "_________________________________________________________________\n",
            " Layer (type)                Output Shape              Param #   \n",
            "=================================================================\n",
            " rescaling (Rescaling)       (None, 28, 28, 1)         0         \n",
            "                                                                 \n",
            " random_flip_1 (RandomFlip)  (None, 28, 28, 1)         0         \n",
            "                                                                 \n",
            " random_rotation_1 (RandomRo  (None, 28, 28, 1)        0         \n",
            " tation)                                                         \n",
            "                                                                 \n",
            " conv2d_3 (Conv2D)           (None, 27, 27, 32)        160       \n",
            "                                                                 \n",
            " max_pooling2d_2 (MaxPooling  (None, 13, 13, 32)       0         \n",
            " 2D)                                                             \n",
            "                                                                 \n",
            " conv2d_4 (Conv2D)           (None, 12, 12, 48)        6192      \n",
            "                                                                 \n",
            " max_pooling2d_3 (MaxPooling  (None, 6, 6, 48)         0         \n",
            " 2D)                                                             \n",
            "                                                                 \n",
            " conv2d_5 (Conv2D)           (None, 5, 5, 48)          9264      \n",
            "                                                                 \n",
            " flatten_1 (Flatten)         (None, 1200)              0         \n",
            "                                                                 \n",
            " dense_2 (Dense)             (None, 96)                115296    \n",
            "                                                                 \n",
            " dense_3 (Dense)             (None, 25)                2425      \n",
            "                                                                 \n",
            "=================================================================\n",
            "Total params: 133,337\n",
            "Trainable params: 133,337\n",
            "Non-trainable params: 0\n",
            "_________________________________________________________________\n"
          ]
        }
      ],
      "source": [
        "model_sign_recognition.summary()"
      ]
    },
    {
      "cell_type": "code",
      "execution_count": 30,
      "metadata": {
        "colab": {
          "base_uri": "https://localhost:8080/",
          "height": 641
        },
        "id": "2-XrCwgmLJB3",
        "outputId": "242097d9-8f74-48d0-a39b-c82eb44db424"
      },
      "outputs": [
        {
          "name": "stdout",
          "output_type": "stream",
          "text": [
            "Epoch 1/10\n",
            "WARNING:tensorflow:Using a while_loop for converting RngReadAndSkip cause there is no registered converter for this op.\n",
            "WARNING:tensorflow:Using a while_loop for converting Bitcast cause there is no registered converter for this op.\n",
            "WARNING:tensorflow:Using a while_loop for converting Bitcast cause there is no registered converter for this op.\n",
            "WARNING:tensorflow:Using a while_loop for converting StatelessRandomUniformV2 cause there is no registered converter for this op.\n",
            "WARNING:tensorflow:Using a while_loop for converting ImageProjectiveTransformV3 cause there is no registered converter for this op.\n",
            "WARNING:tensorflow:Using a while_loop for converting RngReadAndSkip cause there is no registered converter for this op.\n",
            "WARNING:tensorflow:Using a while_loop for converting Bitcast cause there is no registered converter for this op.\n",
            "WARNING:tensorflow:Using a while_loop for converting Bitcast cause there is no registered converter for this op.\n",
            "WARNING:tensorflow:Using a while_loop for converting StatelessRandomUniformV2 cause there is no registered converter for this op.\n",
            "WARNING:tensorflow:Using a while_loop for converting ImageProjectiveTransformV3 cause there is no registered converter for this op.\n",
            "601/601 [==============================] - 62s 100ms/step - loss: 0.2134 - accuracy: 0.9244 - val_loss: 0.0177 - val_accuracy: 0.9958\n",
            "Epoch 2/10\n",
            "601/601 [==============================] - 61s 101ms/step - loss: 0.1949 - accuracy: 0.9324 - val_loss: 0.0245 - val_accuracy: 0.9916\n",
            "Epoch 3/10\n",
            "601/601 [==============================] - 61s 101ms/step - loss: 0.1634 - accuracy: 0.9411 - val_loss: 0.0085 - val_accuracy: 0.9978\n",
            "Epoch 4/10\n",
            "601/601 [==============================] - 61s 102ms/step - loss: 0.1572 - accuracy: 0.9458 - val_loss: 0.0115 - val_accuracy: 0.9960\n",
            "Epoch 5/10\n",
            "601/601 [==============================] - 61s 101ms/step - loss: 0.1368 - accuracy: 0.9513 - val_loss: 0.0115 - val_accuracy: 0.9958\n",
            "Epoch 6/10\n",
            "601/601 [==============================] - 60s 100ms/step - loss: 0.1297 - accuracy: 0.9555 - val_loss: 0.0067 - val_accuracy: 0.9976\n",
            "Epoch 7/10\n",
            "601/601 [==============================] - 61s 102ms/step - loss: 0.1196 - accuracy: 0.9575 - val_loss: 0.0086 - val_accuracy: 0.9971\n",
            "Epoch 8/10\n",
            "601/601 [==============================] - 61s 101ms/step - loss: 0.1146 - accuracy: 0.9602 - val_loss: 0.0112 - val_accuracy: 0.9961\n",
            "Epoch 9/10\n",
            "601/601 [==============================] - 61s 101ms/step - loss: 0.1051 - accuracy: 0.9631 - val_loss: 0.0045 - val_accuracy: 0.9984\n",
            "Epoch 10/10\n",
            "601/601 [==============================] - 61s 101ms/step - loss: 0.1043 - accuracy: 0.9644 - val_loss: 0.0026 - val_accuracy: 0.9998\n"
          ]
        }
      ],
      "source": [
        "model_sign_recognition.compile(optimizer='Adam', \n",
        "                               loss=tf.keras.losses.SparseCategoricalCrossentropy(),\n",
        "                               metrics=['accuracy'])\n",
        "\n",
        "history = model_sign_recognition.fit(X_train, Y_train, validation_split=0.3, batch_size=32, epochs=10)"
      ]
    },
    {
      "cell_type": "code",
      "execution_count": 31,
      "metadata": {
        "id": "H4n0tmJ_mfJj"
      },
      "outputs": [
        {
          "name": "stdout",
          "output_type": "stream",
          "text": [
            "225/225 - 1s - loss: 0.1775 - accuracy: 0.9611 - 585ms/epoch - 3ms/step\n"
          ]
        },
        {
          "data": {
            "image/png": "[encoded data removed]",
            "text/plain": [
              "<Figure size 1500x500 with 1 Axes>"
            ]
          },
          "metadata": {},
          "output_type": "display_data"
        }
      ],
      "source": [
        "plt.plot(history.history['accuracy'], label='accuracy')\n",
        "plt.plot(history.history['val_accuracy'], label = 'val_accuracy')\n",
        "plt.xlabel('Epoch')\n",
        "plt.ylabel('Accuracy')\n",
        "plt.ylim([0.5, 1])\n",
        "plt.legend(loc='lower right')\n",
        "\n",
        "test_loss, test_acc = model_sign_recognition.evaluate(X_test,  Y_test, verbose=2)"
      ]
    },
    {
      "cell_type": "code",
      "execution_count": 35,
      "metadata": {
        "id": "FY2GpN7iv_EH"
      },
      "outputs": [
        {
          "name": "stdout",
          "output_type": "stream",
          "text": [
            "Test accuracy: 96.11%\n"
          ]
        }
      ],
      "source": [
        "print(\"Test accuracy: %.2f%%\" % (100 * test_acc))"
      ]
    },
    {
      "cell_type": "code",
      "execution_count": 44,
      "metadata": {},
      "outputs": [
        {
          "name": "stdout",
          "output_type": "stream",
          "text": [
            "Predicted:  17 True Value:  [17]\n"
          ]
        }
      ],
      "source": [
        "INDEX_TEST = 87\n",
        "image_test = X_test[INDEX_TEST]\n",
        "\n",
        "img = (np.expand_dims(image_test,0))\n",
        "predict_single = model_sign_recognition.predict(img, verbose=0)\n",
        "\n",
        "predicted_class_indices=np.argmax(predict_single,axis=1)[0]\n",
        "print(\"Predicted: \", predicted_class_indices, \"True Value: \", Y_test[INDEX_TEST])"
      ]
    },
    {
      "cell_type": "code",
      "execution_count": null,
      "metadata": {},
      "outputs": [],
      "source": []
    }
  ],
  "metadata": {
    "accelerator": "TPU",
    "colab": {
      "provenance": []
    },
    "gpuClass": "standard",
    "kernelspec": {
      "display_name": "deeplearning-labs",
      "language": "python",
      "name": "python3"
    },
    "language_info": {
      "codemirror_mode": {
        "name": "ipython",
        "version": 3
      },
      "file_extension": ".py",
      "mimetype": "text/x-python",
      "name": "python",
      "nbconvert_exporter": "python",
      "pygments_lexer": "ipython3",
      "version": "3.10.8"
    },
    "vscode": {
      "interpreter": {
        "hash": "032473c24c08033e69a7bcdbbcf81aa0a7764bf232c7d468b3b5ce69dddc97d3"
      }
    }
  },
  "nbformat": 4,
  "nbformat_minor": 0
}

{
 "cells": [
  {
   "cell_type": "code",
   "execution_count": 1,
   "metadata": {},
   "outputs": [],
   "source": [
    "import torch\n",
    "from torch import nn\n",
    "from math import floor\n",
    "from torch.autograd import Variable "
   ]
  },
  {
   "cell_type": "code",
   "execution_count": 7,
   "metadata": {},
   "outputs": [
    {
     "data": {
      "text/plain": [
       "tensor([[[ 0.1580, -0.1986, -1.0689,  1.1848, -0.4270, -0.3384, -0.3495,\n",
       "           1.5861,  0.0469,  1.0838,  1.0230, -0.1661, -0.2721,  1.1023,\n",
       "          -0.1393,  0.0676,  0.1469,  0.5381,  1.9701,  0.7982],\n",
       "         [-0.7681, -0.7652,  1.4199, -0.9061, -0.4501,  0.8701,  1.3005,\n",
       "           1.1563,  0.2046,  0.3964, -1.2227,  1.3196, -0.6172,  0.0393,\n",
       "           1.1264,  1.3125, -0.7349, -0.1833,  0.6915,  0.6372]]])"
      ]
     },
     "execution_count": 7,
     "metadata": {},
     "output_type": "execute_result"
    }
   ],
   "source": [
    "torch.randn(1, 2, 20)"
   ]
  },
  {
   "cell_type": "code",
   "execution_count": null,
   "metadata": {},
   "outputs": [],
   "source": []
  }
 ],
 "metadata": {
  "kernelspec": {
   "display_name": "dev-ml-environment",
   "language": "python",
   "name": "python3"
  },
  "language_info": {
   "codemirror_mode": {
    "name": "ipython",
    "version": 3
   },
   "file_extension": ".py",
   "mimetype": "text/x-python",
   "name": "python",
   "nbconvert_exporter": "python",
   "pygments_lexer": "ipython3",
   "version": "3.10.9"
  },
  "orig_nbformat": 4
 },
 "nbformat": 4,
 "nbformat_minor": 2
}

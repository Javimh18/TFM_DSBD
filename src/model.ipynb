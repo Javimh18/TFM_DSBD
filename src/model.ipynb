{
 "cells": [
  {
   "cell_type": "code",
   "execution_count": 1,
   "metadata": {},
   "outputs": [
    {
     "data": {
      "text/plain": [
       "'/home/javiermunoz/Universidad/MasterBDyDS/TFM/TFM_DSBD'"
      ]
     },
     "execution_count": 1,
     "metadata": {},
     "output_type": "execute_result"
    }
   ],
   "source": [
    "import os\n",
    "# Changing the working directory\n",
    "os.chdir('..')\n",
    "os.getcwd()"
   ]
  },
  {
   "cell_type": "code",
   "execution_count": 2,
   "metadata": {},
   "outputs": [],
   "source": [
    "from config import DATA_PATH, VIDEOS_PATH\n",
    "import pandas as pd\n",
    "from sklearn.model_selection import train_test_split\n",
    "from config import SPLITS\n",
    "from numpy.random import default_rng\n",
    "import shutil\n",
    "import pathlib"
   ]
  },
  {
   "attachments": {},
   "cell_type": "markdown",
   "metadata": {},
   "source": [
    "## 0. Data Preparation"
   ]
  },
  {
   "cell_type": "code",
   "execution_count": 3,
   "metadata": {},
   "outputs": [
    {
     "data": {
      "text/html": [
       "<div>\n",
       "<style scoped>\n",
       "    .dataframe tbody tr th:only-of-type {\n",
       "        vertical-align: middle;\n",
       "    }\n",
       "\n",
       "    .dataframe tbody tr th {\n",
       "        vertical-align: top;\n",
       "    }\n",
       "\n",
       "    .dataframe thead th {\n",
       "        text-align: right;\n",
       "    }\n",
       "</style>\n",
       "<table border=\"1\" class=\"dataframe\">\n",
       "  <thead>\n",
       "    <tr style=\"text-align: right;\">\n",
       "      <th></th>\n",
       "      <th>gloss_id</th>\n",
       "      <th>gloss</th>\n",
       "      <th>hand</th>\n",
       "    </tr>\n",
       "  </thead>\n",
       "  <tbody>\n",
       "    <tr>\n",
       "      <th>0</th>\n",
       "      <td>1</td>\n",
       "      <td>Opaque</td>\n",
       "      <td>R</td>\n",
       "    </tr>\n",
       "    <tr>\n",
       "      <th>1</th>\n",
       "      <td>2</td>\n",
       "      <td>Red</td>\n",
       "      <td>R</td>\n",
       "    </tr>\n",
       "    <tr>\n",
       "      <th>2</th>\n",
       "      <td>3</td>\n",
       "      <td>Green</td>\n",
       "      <td>R</td>\n",
       "    </tr>\n",
       "    <tr>\n",
       "      <th>3</th>\n",
       "      <td>4</td>\n",
       "      <td>Yellow</td>\n",
       "      <td>R</td>\n",
       "    </tr>\n",
       "    <tr>\n",
       "      <th>4</th>\n",
       "      <td>5</td>\n",
       "      <td>Bright</td>\n",
       "      <td>R</td>\n",
       "    </tr>\n",
       "    <tr>\n",
       "      <th>...</th>\n",
       "      <td>...</td>\n",
       "      <td>...</td>\n",
       "      <td>...</td>\n",
       "    </tr>\n",
       "    <tr>\n",
       "      <th>59</th>\n",
       "      <td>60</td>\n",
       "      <td>Copy</td>\n",
       "      <td>B</td>\n",
       "    </tr>\n",
       "    <tr>\n",
       "      <th>60</th>\n",
       "      <td>61</td>\n",
       "      <td>Run</td>\n",
       "      <td>B</td>\n",
       "    </tr>\n",
       "    <tr>\n",
       "      <th>61</th>\n",
       "      <td>62</td>\n",
       "      <td>Realize</td>\n",
       "      <td>R</td>\n",
       "    </tr>\n",
       "    <tr>\n",
       "      <th>62</th>\n",
       "      <td>63</td>\n",
       "      <td>Give</td>\n",
       "      <td>B</td>\n",
       "    </tr>\n",
       "    <tr>\n",
       "      <th>63</th>\n",
       "      <td>64</td>\n",
       "      <td>Find</td>\n",
       "      <td>R</td>\n",
       "    </tr>\n",
       "  </tbody>\n",
       "</table>\n",
       "<p>64 rows × 3 columns</p>\n",
       "</div>"
      ],
      "text/plain": [
       "    gloss_id    gloss hand\n",
       "0          1   Opaque    R\n",
       "1          2      Red    R\n",
       "2          3    Green    R\n",
       "3          4   Yellow    R\n",
       "4          5   Bright    R\n",
       "..       ...      ...  ...\n",
       "59        60     Copy    B\n",
       "60        61      Run    B\n",
       "61        62  Realize    R\n",
       "62        63     Give    B\n",
       "63        64     Find    R\n",
       "\n",
       "[64 rows x 3 columns]"
      ]
     },
     "execution_count": 3,
     "metadata": {},
     "output_type": "execute_result"
    }
   ],
   "source": [
    "# Load the labels data\n",
    "labels = pd.read_csv('./data/labels.csv')\n",
    "labels"
   ]
  },
  {
   "cell_type": "code",
   "execution_count": 4,
   "metadata": {},
   "outputs": [
    {
     "name": "stdout",
     "output_type": "stream",
     "text": [
      "The number of videos in the dataset is: 3200\n"
     ]
    }
   ],
   "source": [
    "list_of_videos = os.listdir(VIDEOS_PATH)\n",
    "print(f\"The number of videos in the dataset is: {len(list_of_videos)}\")"
   ]
  },
  {
   "cell_type": "code",
   "execution_count": 5,
   "metadata": {},
   "outputs": [
    {
     "data": {
      "text/html": [
       "<div>\n",
       "<style scoped>\n",
       "    .dataframe tbody tr th:only-of-type {\n",
       "        vertical-align: middle;\n",
       "    }\n",
       "\n",
       "    .dataframe tbody tr th {\n",
       "        vertical-align: top;\n",
       "    }\n",
       "\n",
       "    .dataframe thead th {\n",
       "        text-align: right;\n",
       "    }\n",
       "</style>\n",
       "<table border=\"1\" class=\"dataframe\">\n",
       "  <thead>\n",
       "    <tr style=\"text-align: right;\">\n",
       "      <th></th>\n",
       "      <th>video_id</th>\n",
       "      <th>gloss_id</th>\n",
       "      <th>interpreter_id</th>\n",
       "      <th>take_id</th>\n",
       "    </tr>\n",
       "  </thead>\n",
       "  <tbody>\n",
       "    <tr>\n",
       "      <th>0</th>\n",
       "      <td>019_006_005.mp4</td>\n",
       "      <td>19</td>\n",
       "      <td>006</td>\n",
       "      <td>005</td>\n",
       "    </tr>\n",
       "    <tr>\n",
       "      <th>1</th>\n",
       "      <td>039_004_001.mp4</td>\n",
       "      <td>39</td>\n",
       "      <td>004</td>\n",
       "      <td>001</td>\n",
       "    </tr>\n",
       "    <tr>\n",
       "      <th>2</th>\n",
       "      <td>011_009_003.mp4</td>\n",
       "      <td>11</td>\n",
       "      <td>009</td>\n",
       "      <td>003</td>\n",
       "    </tr>\n",
       "    <tr>\n",
       "      <th>3</th>\n",
       "      <td>037_005_004.mp4</td>\n",
       "      <td>37</td>\n",
       "      <td>005</td>\n",
       "      <td>004</td>\n",
       "    </tr>\n",
       "    <tr>\n",
       "      <th>4</th>\n",
       "      <td>011_006_002.mp4</td>\n",
       "      <td>11</td>\n",
       "      <td>006</td>\n",
       "      <td>002</td>\n",
       "    </tr>\n",
       "    <tr>\n",
       "      <th>...</th>\n",
       "      <td>...</td>\n",
       "      <td>...</td>\n",
       "      <td>...</td>\n",
       "      <td>...</td>\n",
       "    </tr>\n",
       "    <tr>\n",
       "      <th>3195</th>\n",
       "      <td>019_002_004.mp4</td>\n",
       "      <td>19</td>\n",
       "      <td>002</td>\n",
       "      <td>004</td>\n",
       "    </tr>\n",
       "    <tr>\n",
       "      <th>3196</th>\n",
       "      <td>051_002_001.mp4</td>\n",
       "      <td>51</td>\n",
       "      <td>002</td>\n",
       "      <td>001</td>\n",
       "    </tr>\n",
       "    <tr>\n",
       "      <th>3197</th>\n",
       "      <td>051_003_001.mp4</td>\n",
       "      <td>51</td>\n",
       "      <td>003</td>\n",
       "      <td>001</td>\n",
       "    </tr>\n",
       "    <tr>\n",
       "      <th>3198</th>\n",
       "      <td>024_010_005.mp4</td>\n",
       "      <td>24</td>\n",
       "      <td>010</td>\n",
       "      <td>005</td>\n",
       "    </tr>\n",
       "    <tr>\n",
       "      <th>3199</th>\n",
       "      <td>058_001_005.mp4</td>\n",
       "      <td>58</td>\n",
       "      <td>001</td>\n",
       "      <td>005</td>\n",
       "    </tr>\n",
       "  </tbody>\n",
       "</table>\n",
       "<p>3200 rows × 4 columns</p>\n",
       "</div>"
      ],
      "text/plain": [
       "             video_id  gloss_id interpreter_id take_id\n",
       "0     019_006_005.mp4        19            006     005\n",
       "1     039_004_001.mp4        39            004     001\n",
       "2     011_009_003.mp4        11            009     003\n",
       "3     037_005_004.mp4        37            005     004\n",
       "4     011_006_002.mp4        11            006     002\n",
       "...               ...       ...            ...     ...\n",
       "3195  019_002_004.mp4        19            002     004\n",
       "3196  051_002_001.mp4        51            002     001\n",
       "3197  051_003_001.mp4        51            003     001\n",
       "3198  024_010_005.mp4        24            010     005\n",
       "3199  058_001_005.mp4        58            001     005\n",
       "\n",
       "[3200 rows x 4 columns]"
      ]
     },
     "execution_count": 5,
     "metadata": {},
     "output_type": "execute_result"
    }
   ],
   "source": [
    "# Create a metadata dictionary\n",
    "metadata_dict = {\n",
    "    \"video_id\": [],\n",
    "    \"gloss_id\": [],\n",
    "    \"interpreter_id\": [],\n",
    "    \"take_id\": []\n",
    "}\n",
    "\n",
    "for video_id in list_of_videos:\n",
    "    str_splits = video_id.split(\"_\")\n",
    "    gloss_id, interpreter_id, take_id = int(str_splits[0]), str_splits[1], str_splits[2].split(\".\")[0]\n",
    "    metadata_dict[\"gloss_id\"].append(gloss_id)\n",
    "    metadata_dict[\"interpreter_id\"].append(interpreter_id)\n",
    "    metadata_dict[\"take_id\"].append(take_id)\n",
    "    metadata_dict[\"video_id\"].append(video_id)\n",
    "\n",
    "metadata_df = pd.DataFrame(metadata_dict)\n",
    "metadata_df"
   ]
  },
  {
   "cell_type": "code",
   "execution_count": 6,
   "metadata": {},
   "outputs": [
    {
     "data": {
      "text/html": [
       "<div>\n",
       "<style scoped>\n",
       "    .dataframe tbody tr th:only-of-type {\n",
       "        vertical-align: middle;\n",
       "    }\n",
       "\n",
       "    .dataframe tbody tr th {\n",
       "        vertical-align: top;\n",
       "    }\n",
       "\n",
       "    .dataframe thead th {\n",
       "        text-align: right;\n",
       "    }\n",
       "</style>\n",
       "<table border=\"1\" class=\"dataframe\">\n",
       "  <thead>\n",
       "    <tr style=\"text-align: right;\">\n",
       "      <th></th>\n",
       "      <th>video_id</th>\n",
       "      <th>gloss_id</th>\n",
       "      <th>interpreter_id</th>\n",
       "      <th>take_id</th>\n",
       "      <th>gloss</th>\n",
       "      <th>hand</th>\n",
       "    </tr>\n",
       "  </thead>\n",
       "  <tbody>\n",
       "    <tr>\n",
       "      <th>0</th>\n",
       "      <td>019_006_005.mp4</td>\n",
       "      <td>19</td>\n",
       "      <td>006</td>\n",
       "      <td>005</td>\n",
       "      <td>Bitter</td>\n",
       "      <td>R</td>\n",
       "    </tr>\n",
       "    <tr>\n",
       "      <th>1</th>\n",
       "      <td>019_006_001.mp4</td>\n",
       "      <td>19</td>\n",
       "      <td>006</td>\n",
       "      <td>001</td>\n",
       "      <td>Bitter</td>\n",
       "      <td>R</td>\n",
       "    </tr>\n",
       "    <tr>\n",
       "      <th>2</th>\n",
       "      <td>019_003_004.mp4</td>\n",
       "      <td>19</td>\n",
       "      <td>003</td>\n",
       "      <td>004</td>\n",
       "      <td>Bitter</td>\n",
       "      <td>R</td>\n",
       "    </tr>\n",
       "    <tr>\n",
       "      <th>3</th>\n",
       "      <td>019_002_001.mp4</td>\n",
       "      <td>19</td>\n",
       "      <td>002</td>\n",
       "      <td>001</td>\n",
       "      <td>Bitter</td>\n",
       "      <td>R</td>\n",
       "    </tr>\n",
       "    <tr>\n",
       "      <th>4</th>\n",
       "      <td>019_004_004.mp4</td>\n",
       "      <td>19</td>\n",
       "      <td>004</td>\n",
       "      <td>004</td>\n",
       "      <td>Bitter</td>\n",
       "      <td>R</td>\n",
       "    </tr>\n",
       "    <tr>\n",
       "      <th>...</th>\n",
       "      <td>...</td>\n",
       "      <td>...</td>\n",
       "      <td>...</td>\n",
       "      <td>...</td>\n",
       "      <td>...</td>\n",
       "      <td>...</td>\n",
       "    </tr>\n",
       "    <tr>\n",
       "      <th>3195</th>\n",
       "      <td>013_006_003.mp4</td>\n",
       "      <td>13</td>\n",
       "      <td>006</td>\n",
       "      <td>003</td>\n",
       "      <td>Away</td>\n",
       "      <td>R</td>\n",
       "    </tr>\n",
       "    <tr>\n",
       "      <th>3196</th>\n",
       "      <td>013_002_003.mp4</td>\n",
       "      <td>13</td>\n",
       "      <td>002</td>\n",
       "      <td>003</td>\n",
       "      <td>Away</td>\n",
       "      <td>R</td>\n",
       "    </tr>\n",
       "    <tr>\n",
       "      <th>3197</th>\n",
       "      <td>013_007_001.mp4</td>\n",
       "      <td>13</td>\n",
       "      <td>007</td>\n",
       "      <td>001</td>\n",
       "      <td>Away</td>\n",
       "      <td>R</td>\n",
       "    </tr>\n",
       "    <tr>\n",
       "      <th>3198</th>\n",
       "      <td>013_001_005.mp4</td>\n",
       "      <td>13</td>\n",
       "      <td>001</td>\n",
       "      <td>005</td>\n",
       "      <td>Away</td>\n",
       "      <td>R</td>\n",
       "    </tr>\n",
       "    <tr>\n",
       "      <th>3199</th>\n",
       "      <td>013_001_004.mp4</td>\n",
       "      <td>13</td>\n",
       "      <td>001</td>\n",
       "      <td>004</td>\n",
       "      <td>Away</td>\n",
       "      <td>R</td>\n",
       "    </tr>\n",
       "  </tbody>\n",
       "</table>\n",
       "<p>3200 rows × 6 columns</p>\n",
       "</div>"
      ],
      "text/plain": [
       "             video_id  gloss_id interpreter_id take_id   gloss hand\n",
       "0     019_006_005.mp4        19            006     005  Bitter    R\n",
       "1     019_006_001.mp4        19            006     001  Bitter    R\n",
       "2     019_003_004.mp4        19            003     004  Bitter    R\n",
       "3     019_002_001.mp4        19            002     001  Bitter    R\n",
       "4     019_004_004.mp4        19            004     004  Bitter    R\n",
       "...               ...       ...            ...     ...     ...  ...\n",
       "3195  013_006_003.mp4        13            006     003    Away    R\n",
       "3196  013_002_003.mp4        13            002     003    Away    R\n",
       "3197  013_007_001.mp4        13            007     001    Away    R\n",
       "3198  013_001_005.mp4        13            001     005    Away    R\n",
       "3199  013_001_004.mp4        13            001     004    Away    R\n",
       "\n",
       "[3200 rows x 6 columns]"
      ]
     },
     "execution_count": 6,
     "metadata": {},
     "output_type": "execute_result"
    }
   ],
   "source": [
    "# Join both dictionaries\n",
    "full_metadata_df = metadata_df.merge(labels, on='gloss_id')\n",
    "full_metadata_df"
   ]
  },
  {
   "cell_type": "code",
   "execution_count": 7,
   "metadata": {},
   "outputs": [
    {
     "data": {
      "text/plain": [
       "(video_id          False\n",
       " gloss_id          False\n",
       " interpreter_id    False\n",
       " take_id           False\n",
       " gloss             False\n",
       " hand              False\n",
       " dtype: bool,\n",
       " video_id          False\n",
       " gloss_id          False\n",
       " interpreter_id    False\n",
       " take_id           False\n",
       " gloss             False\n",
       " hand              False\n",
       " dtype: bool)"
      ]
     },
     "execution_count": 7,
     "metadata": {},
     "output_type": "execute_result"
    }
   ],
   "source": [
    "# Check that there are no nulls\n",
    "full_metadata_df.isnull().any(), full_metadata_df.isna().any()"
   ]
  },
  {
   "cell_type": "code",
   "execution_count": 8,
   "metadata": {},
   "outputs": [],
   "source": [
    "metadata_4_train, metadata_4_test = train_test_split(full_metadata_df, test_size=0.2, shuffle=True)\n",
    "metadata_4_val, metadata_4_test = train_test_split(metadata_4_test, test_size=0.4, shuffle=True)"
   ]
  },
  {
   "cell_type": "code",
   "execution_count": 9,
   "metadata": {},
   "outputs": [
    {
     "data": {
      "text/html": [
       "<div>\n",
       "<style scoped>\n",
       "    .dataframe tbody tr th:only-of-type {\n",
       "        vertical-align: middle;\n",
       "    }\n",
       "\n",
       "    .dataframe tbody tr th {\n",
       "        vertical-align: top;\n",
       "    }\n",
       "\n",
       "    .dataframe thead th {\n",
       "        text-align: right;\n",
       "    }\n",
       "</style>\n",
       "<table border=\"1\" class=\"dataframe\">\n",
       "  <thead>\n",
       "    <tr style=\"text-align: right;\">\n",
       "      <th></th>\n",
       "      <th>video_id</th>\n",
       "      <th>gloss_id</th>\n",
       "      <th>interpreter_id</th>\n",
       "      <th>take_id</th>\n",
       "      <th>gloss</th>\n",
       "      <th>hand</th>\n",
       "      <th>sp</th>\n",
       "    </tr>\n",
       "  </thead>\n",
       "  <tbody>\n",
       "    <tr>\n",
       "      <th>3139</th>\n",
       "      <td>042_001_003.mp4</td>\n",
       "      <td>42</td>\n",
       "      <td>001</td>\n",
       "      <td>003</td>\n",
       "      <td>Deaf</td>\n",
       "      <td>R</td>\n",
       "      <td>train</td>\n",
       "    </tr>\n",
       "    <tr>\n",
       "      <th>1221</th>\n",
       "      <td>023_008_002.mp4</td>\n",
       "      <td>23</td>\n",
       "      <td>008</td>\n",
       "      <td>002</td>\n",
       "      <td>Food</td>\n",
       "      <td>R</td>\n",
       "      <td>train</td>\n",
       "    </tr>\n",
       "    <tr>\n",
       "      <th>2158</th>\n",
       "      <td>040_007_003.mp4</td>\n",
       "      <td>40</td>\n",
       "      <td>007</td>\n",
       "      <td>003</td>\n",
       "      <td>Patience</td>\n",
       "      <td>R</td>\n",
       "      <td>train</td>\n",
       "    </tr>\n",
       "    <tr>\n",
       "      <th>1793</th>\n",
       "      <td>047_007_002.mp4</td>\n",
       "      <td>47</td>\n",
       "      <td>007</td>\n",
       "      <td>002</td>\n",
       "      <td>Chewing-gum</td>\n",
       "      <td>R</td>\n",
       "      <td>train</td>\n",
       "    </tr>\n",
       "    <tr>\n",
       "      <th>2639</th>\n",
       "      <td>059_004_002.mp4</td>\n",
       "      <td>59</td>\n",
       "      <td>004</td>\n",
       "      <td>002</td>\n",
       "      <td>Buy</td>\n",
       "      <td>R</td>\n",
       "      <td>train</td>\n",
       "    </tr>\n",
       "    <tr>\n",
       "      <th>...</th>\n",
       "      <td>...</td>\n",
       "      <td>...</td>\n",
       "      <td>...</td>\n",
       "      <td>...</td>\n",
       "      <td>...</td>\n",
       "      <td>...</td>\n",
       "      <td>...</td>\n",
       "    </tr>\n",
       "    <tr>\n",
       "      <th>410</th>\n",
       "      <td>061_007_002.mp4</td>\n",
       "      <td>61</td>\n",
       "      <td>007</td>\n",
       "      <td>002</td>\n",
       "      <td>Run</td>\n",
       "      <td>B</td>\n",
       "      <td>test</td>\n",
       "    </tr>\n",
       "    <tr>\n",
       "      <th>244</th>\n",
       "      <td>022_010_002.mp4</td>\n",
       "      <td>22</td>\n",
       "      <td>010</td>\n",
       "      <td>002</td>\n",
       "      <td>Water</td>\n",
       "      <td>R</td>\n",
       "      <td>test</td>\n",
       "    </tr>\n",
       "    <tr>\n",
       "      <th>1511</th>\n",
       "      <td>032_008_002.mp4</td>\n",
       "      <td>32</td>\n",
       "      <td>008</td>\n",
       "      <td>002</td>\n",
       "      <td>Photo</td>\n",
       "      <td>B</td>\n",
       "      <td>test</td>\n",
       "    </tr>\n",
       "    <tr>\n",
       "      <th>195</th>\n",
       "      <td>037_005_002.mp4</td>\n",
       "      <td>37</td>\n",
       "      <td>005</td>\n",
       "      <td>002</td>\n",
       "      <td>Ship</td>\n",
       "      <td>R</td>\n",
       "      <td>test</td>\n",
       "    </tr>\n",
       "    <tr>\n",
       "      <th>589</th>\n",
       "      <td>058_007_005.mp4</td>\n",
       "      <td>58</td>\n",
       "      <td>007</td>\n",
       "      <td>005</td>\n",
       "      <td>Bathe</td>\n",
       "      <td>B</td>\n",
       "      <td>test</td>\n",
       "    </tr>\n",
       "  </tbody>\n",
       "</table>\n",
       "<p>3200 rows × 7 columns</p>\n",
       "</div>"
      ],
      "text/plain": [
       "             video_id  gloss_id interpreter_id take_id        gloss hand  \\\n",
       "3139  042_001_003.mp4        42            001     003         Deaf    R   \n",
       "1221  023_008_002.mp4        23            008     002         Food    R   \n",
       "2158  040_007_003.mp4        40            007     003     Patience    R   \n",
       "1793  047_007_002.mp4        47            007     002  Chewing-gum    R   \n",
       "2639  059_004_002.mp4        59            004     002          Buy    R   \n",
       "...               ...       ...            ...     ...          ...  ...   \n",
       "410   061_007_002.mp4        61            007     002          Run    B   \n",
       "244   022_010_002.mp4        22            010     002        Water    R   \n",
       "1511  032_008_002.mp4        32            008     002        Photo    B   \n",
       "195   037_005_002.mp4        37            005     002         Ship    R   \n",
       "589   058_007_005.mp4        58            007     005        Bathe    B   \n",
       "\n",
       "         sp  \n",
       "3139  train  \n",
       "1221  train  \n",
       "2158  train  \n",
       "1793  train  \n",
       "2639  train  \n",
       "...     ...  \n",
       "410    test  \n",
       "244    test  \n",
       "1511   test  \n",
       "195    test  \n",
       "589    test  \n",
       "\n",
       "[3200 rows x 7 columns]"
      ]
     },
     "execution_count": 9,
     "metadata": {},
     "output_type": "execute_result"
    }
   ],
   "source": [
    "metadata_4_train[\"sp\"] = 'train'\n",
    "metadata_4_val[\"sp\"] = 'val'\n",
    "metadata_4_test[\"sp\"] = 'test'\n",
    "full_metadata_df = pd.concat([metadata_4_train, metadata_4_val, metadata_4_test])\n",
    "full_metadata_df.reset_index()\n",
    "full_metadata_df"
   ]
  },
  {
   "cell_type": "code",
   "execution_count": 10,
   "metadata": {},
   "outputs": [
    {
     "data": {
      "text/html": [
       "<div>\n",
       "<style scoped>\n",
       "    .dataframe tbody tr th:only-of-type {\n",
       "        vertical-align: middle;\n",
       "    }\n",
       "\n",
       "    .dataframe tbody tr th {\n",
       "        vertical-align: top;\n",
       "    }\n",
       "\n",
       "    .dataframe thead th {\n",
       "        text-align: right;\n",
       "    }\n",
       "</style>\n",
       "<table border=\"1\" class=\"dataframe\">\n",
       "  <thead>\n",
       "    <tr style=\"text-align: right;\">\n",
       "      <th></th>\n",
       "      <th>video_id</th>\n",
       "      <th>gloss_id</th>\n",
       "      <th>interpreter_id</th>\n",
       "      <th>take_id</th>\n",
       "      <th>gloss</th>\n",
       "      <th>hand</th>\n",
       "      <th>sp</th>\n",
       "    </tr>\n",
       "  </thead>\n",
       "  <tbody>\n",
       "    <tr>\n",
       "      <th>1525</th>\n",
       "      <td>032_010_005.mp4</td>\n",
       "      <td>32</td>\n",
       "      <td>010</td>\n",
       "      <td>005</td>\n",
       "      <td>Photo</td>\n",
       "      <td>B</td>\n",
       "      <td>train</td>\n",
       "    </tr>\n",
       "    <tr>\n",
       "      <th>1506</th>\n",
       "      <td>032_005_001.mp4</td>\n",
       "      <td>32</td>\n",
       "      <td>005</td>\n",
       "      <td>001</td>\n",
       "      <td>Photo</td>\n",
       "      <td>B</td>\n",
       "      <td>train</td>\n",
       "    </tr>\n",
       "    <tr>\n",
       "      <th>1527</th>\n",
       "      <td>032_006_002.mp4</td>\n",
       "      <td>32</td>\n",
       "      <td>006</td>\n",
       "      <td>002</td>\n",
       "      <td>Photo</td>\n",
       "      <td>B</td>\n",
       "      <td>train</td>\n",
       "    </tr>\n",
       "    <tr>\n",
       "      <th>1515</th>\n",
       "      <td>032_002_001.mp4</td>\n",
       "      <td>32</td>\n",
       "      <td>002</td>\n",
       "      <td>001</td>\n",
       "      <td>Photo</td>\n",
       "      <td>B</td>\n",
       "      <td>train</td>\n",
       "    </tr>\n",
       "    <tr>\n",
       "      <th>165</th>\n",
       "      <td>037_006_005.mp4</td>\n",
       "      <td>37</td>\n",
       "      <td>006</td>\n",
       "      <td>005</td>\n",
       "      <td>Ship</td>\n",
       "      <td>R</td>\n",
       "      <td>train</td>\n",
       "    </tr>\n",
       "    <tr>\n",
       "      <th>...</th>\n",
       "      <td>...</td>\n",
       "      <td>...</td>\n",
       "      <td>...</td>\n",
       "      <td>...</td>\n",
       "      <td>...</td>\n",
       "      <td>...</td>\n",
       "      <td>...</td>\n",
       "    </tr>\n",
       "    <tr>\n",
       "      <th>1870</th>\n",
       "      <td>003_007_004.mp4</td>\n",
       "      <td>3</td>\n",
       "      <td>007</td>\n",
       "      <td>004</td>\n",
       "      <td>Green</td>\n",
       "      <td>R</td>\n",
       "      <td>test</td>\n",
       "    </tr>\n",
       "    <tr>\n",
       "      <th>2346</th>\n",
       "      <td>035_001_004.mp4</td>\n",
       "      <td>35</td>\n",
       "      <td>001</td>\n",
       "      <td>004</td>\n",
       "      <td>Coin</td>\n",
       "      <td>B</td>\n",
       "      <td>test</td>\n",
       "    </tr>\n",
       "    <tr>\n",
       "      <th>363</th>\n",
       "      <td>063_007_005.mp4</td>\n",
       "      <td>63</td>\n",
       "      <td>007</td>\n",
       "      <td>005</td>\n",
       "      <td>Give</td>\n",
       "      <td>B</td>\n",
       "      <td>test</td>\n",
       "    </tr>\n",
       "    <tr>\n",
       "      <th>1511</th>\n",
       "      <td>032_008_002.mp4</td>\n",
       "      <td>32</td>\n",
       "      <td>008</td>\n",
       "      <td>002</td>\n",
       "      <td>Photo</td>\n",
       "      <td>B</td>\n",
       "      <td>test</td>\n",
       "    </tr>\n",
       "    <tr>\n",
       "      <th>195</th>\n",
       "      <td>037_005_002.mp4</td>\n",
       "      <td>37</td>\n",
       "      <td>005</td>\n",
       "      <td>002</td>\n",
       "      <td>Ship</td>\n",
       "      <td>R</td>\n",
       "      <td>test</td>\n",
       "    </tr>\n",
       "  </tbody>\n",
       "</table>\n",
       "<p>500 rows × 7 columns</p>\n",
       "</div>"
      ],
      "text/plain": [
       "             video_id  gloss_id interpreter_id take_id  gloss hand     sp\n",
       "1525  032_010_005.mp4        32            010     005  Photo    B  train\n",
       "1506  032_005_001.mp4        32            005     001  Photo    B  train\n",
       "1527  032_006_002.mp4        32            006     002  Photo    B  train\n",
       "1515  032_002_001.mp4        32            002     001  Photo    B  train\n",
       "165   037_006_005.mp4        37            006     005   Ship    R  train\n",
       "...               ...       ...            ...     ...    ...  ...    ...\n",
       "1870  003_007_004.mp4         3            007     004  Green    R   test\n",
       "2346  035_001_004.mp4        35            001     004   Coin    B   test\n",
       "363   063_007_005.mp4        63            007     005   Give    B   test\n",
       "1511  032_008_002.mp4        32            008     002  Photo    B   test\n",
       "195   037_005_002.mp4        37            005     002   Ship    R   test\n",
       "\n",
       "[500 rows x 7 columns]"
      ]
     },
     "execution_count": 10,
     "metadata": {},
     "output_type": "execute_result"
    }
   ],
   "source": [
    "# we take a subset of classes from the whole dataset\n",
    "rng = default_rng()\n",
    "subset_size = 10\n",
    "subset_labels = rng.choice(len(labels), size=subset_size, replace=False)\n",
    "\n",
    "subset_metadata_df = full_metadata_df[full_metadata_df['gloss_id'].isin(subset_labels)]\n",
    "subset_metadata_df.reset_index()\n",
    "subset_metadata_df"
   ]
  },
  {
   "cell_type": "code",
   "execution_count": 11,
   "metadata": {},
   "outputs": [],
   "source": [
    "erase_original = False\n",
    "subset = f\"subset_{subset_size}_lsa_64\""
   ]
  },
  {
   "cell_type": "code",
   "execution_count": 12,
   "metadata": {},
   "outputs": [],
   "source": [
    "\n",
    "# iterate through rows of the dataset\n",
    "for index, row in subset_metadata_df.iterrows():\n",
    "    source = os.path.join(VIDEOS_PATH, row['video_id'])\n",
    "    destination = os.path.join(DATA_PATH, subset, row['sp'], row['gloss'])\n",
    "\n",
    "    # create the dataset structure /data/videos/<train|test|val>/gloss\n",
    "    if not os.path.exists(destination): \n",
    "        os.makedirs(destination)\n",
    "\n",
    "    # and now, we copy from /data/videos to /data/subset_{subset_size}_lsa_64/<train|test|val>/gloss\n",
    "    if os.path.exists(source):\n",
    "        shutil.copy(source, destination)\n",
    "\n",
    "    if erase_original:\n",
    "        os.remove(source)"
   ]
  },
  {
   "cell_type": "code",
   "execution_count": 13,
   "metadata": {},
   "outputs": [],
   "source": [
    "subset_paths = {}\n",
    "for sp in SPLITS:\n",
    "    subset_paths[sp] = pathlib.Path(os.path.join(DATA_PATH, subset, sp))"
   ]
  },
  {
   "attachments": {},
   "cell_type": "markdown",
   "metadata": {},
   "source": [
    "## 1. Data Augmentation"
   ]
  },
  {
   "cell_type": "code",
   "execution_count": 14,
   "metadata": {},
   "outputs": [],
   "source": [
    "import random\n",
    "import cv2\n",
    "import numpy as np\n",
    "import vidaug.augmentors as va \n",
    "from PIL import Image\n",
    "from tqdm import tqdm\n",
    "from augment_dataset import video_loader, data_transformer, from_PIL_to_opencv\n",
    "MAX_AUG = 1\n",
    "\n",
    "random.seed()"
   ]
  },
  {
   "cell_type": "code",
   "execution_count": 15,
   "metadata": {},
   "outputs": [],
   "source": [
    "to_aument = random.randint(0, MAX_AUG)\n",
    "subset_path = os.path.join(DATA_PATH, subset)"
   ]
  },
  {
   "cell_type": "code",
   "execution_count": 16,
   "metadata": {},
   "outputs": [
    {
     "name": "stderr",
     "output_type": "stream",
     "text": [
      "100%|██████████| 10/10 [10:48<00:00, 64.87s/it]\n"
     ]
    },
    {
     "name": "stdout",
     "output_type": "stream",
     "text": [
      "train split processed.\n"
     ]
    },
    {
     "name": "stderr",
     "output_type": "stream",
     "text": [
      "100%|██████████| 10/10 [01:19<00:00,  7.99s/it]\n"
     ]
    },
    {
     "name": "stdout",
     "output_type": "stream",
     "text": [
      "val split processed.\n"
     ]
    },
    {
     "name": "stderr",
     "output_type": "stream",
     "text": [
      "100%|██████████| 10/10 [01:08<00:00,  6.84s/it]"
     ]
    },
    {
     "name": "stdout",
     "output_type": "stream",
     "text": [
      "test split processed.\n"
     ]
    },
    {
     "name": "stderr",
     "output_type": "stream",
     "text": [
      "\n"
     ]
    }
   ],
   "source": [
    "for sp in SPLITS:\n",
    "    for gloss in tqdm(os.listdir(os.path.join(subset_path, sp))):\n",
    "        for video_name in os.listdir(os.path.join(subset_path, sp, gloss)):\n",
    "            for i in range(to_aument):\n",
    "                video_path = os.path.join(subset_path, sp, gloss, video_name)\n",
    "                # get metadata from the video and encoding the output\n",
    "                cap = cv2.VideoCapture(video_path)\n",
    "                fps = cap.get(cv2.CAP_PROP_FPS)\n",
    "                fourCC = cv2.VideoWriter_fourcc(\"m\", \"p\", \"4\", \"v\")\n",
    "                # retrieve frames as PIL images\n",
    "                frames = video_loader(video_path)\n",
    "                # get frame width and height\n",
    "                frame_width, frame_height = frames[0].size\n",
    "\n",
    "                vid_name = video_name.split(\".\")[0]\n",
    "                aug_vid_name = f\"{vid_name}_aug{i}.mp4\"\n",
    "                aug_frames = data_transformer(frames, frame_height, frame_width, crop_factor=0.2)\n",
    "                new_frame_width, new_frame_height = aug_frames[0].size\n",
    "                cv2_frames = from_PIL_to_opencv(aug_frames)  \n",
    "                path_out = os.path.join(subset_path, sp, gloss, aug_vid_name)\n",
    "                out = cv2.VideoWriter(path_out, fourCC, fps, (new_frame_width, new_frame_height))\n",
    "\n",
    "                for frame in cv2_frames:\n",
    "                    out.write(frame)\n",
    "\n",
    "                out.release()\n",
    "                cap.release()"
   ]
  },
  {
   "attachments": {},
   "cell_type": "markdown",
   "metadata": {},
   "source": [
    "## 2. Loading Video Dataset\n",
    "\n",
    "https://www.tensorflow.org/tutorials/load_data/video"
   ]
  },
  {
   "cell_type": "code",
   "execution_count": 16,
   "metadata": {},
   "outputs": [],
   "source": [
    "from load_dataset_aux import frames_from_video_file, to_gif\n",
    "from frame_generator import FrameGenerator\n",
    "import tensorflow as tf"
   ]
  },
  {
   "cell_type": "code",
   "execution_count": 17,
   "metadata": {},
   "outputs": [
    {
     "name": "stderr",
     "output_type": "stream",
     "text": [
      "2023-04-19 00:30:46.273452: I tensorflow/core/platform/cpu_feature_guard.cc:193] This TensorFlow binary is optimized with oneAPI Deep Neural Network Library (oneDNN) to use the following CPU instructions in performance-critical operations:  SSE4.1 SSE4.2 AVX AVX2 FMA\n",
      "To enable them in other operations, rebuild TensorFlow with the appropriate compiler flags.\n",
      "2023-04-19 00:30:46.274591: I tensorflow/core/common_runtime/process_util.cc:146] Creating new thread pool with default inter op setting: 2. Tune using inter_op_parallelism_threads for best performance.\n"
     ]
    },
    {
     "data": {
      "text/html": [
       "<img src=\"data:image/gif;base64,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\"/>"
      ],
      "text/plain": [
       "<IPython.core.display.HTML object>"
      ]
     },
     "execution_count": 17,
     "metadata": {},
     "output_type": "execute_result"
    }
   ],
   "source": [
    "idx, row = next(subset_metadata_df.iterrows())\n",
    "\n",
    "ucf_sample_video = frames_from_video_file(os.path.join(subset_path, row['sp'], row['gloss'], row['video_id']), 10)\n",
    "to_gif(ucf_sample_video)"
   ]
  },
  {
   "cell_type": "code",
   "execution_count": 18,
   "metadata": {},
   "outputs": [
    {
     "data": {
      "text/plain": [
       "(10, 224, 224, 3)"
      ]
     },
     "execution_count": 18,
     "metadata": {},
     "output_type": "execute_result"
    }
   ],
   "source": [
    "ucf_sample_video.shape"
   ]
  },
  {
   "cell_type": "code",
   "execution_count": 19,
   "metadata": {},
   "outputs": [
    {
     "name": "stdout",
     "output_type": "stream",
     "text": [
      "Shape: (10, 224, 224, 3)\n",
      "Label: 40\n"
     ]
    }
   ],
   "source": [
    "fg = FrameGenerator(subset_paths['train'], 10, training=True)\n",
    "\n",
    "frames, label = next(fg())\n",
    "print(f\"Shape: {frames.shape}\")\n",
    "print(f\"Label: {label}\")"
   ]
  },
  {
   "cell_type": "code",
   "execution_count": 20,
   "metadata": {},
   "outputs": [],
   "source": [
    "n_frames = 10\n",
    "batch_size = 8\n",
    "\n",
    "# We specify the shape of the output, such as, the Generator will produce a tuple of both\n",
    "# videos, class, where the videos will have 3 channels, and the rest of dimensions will remain the same.\n",
    "#   VideoShape -> (F, H, W, C)\n",
    "output_signature = (tf.TensorSpec(shape=(None, None, None, 3), dtype=tf.float32),\n",
    "                    tf.TensorSpec(shape=(), dtype=tf.int16))\n",
    "\n",
    "train_ds = tf.data.Dataset.from_generator(FrameGenerator(subset_paths['train'], n_frames, training=True),\n",
    "                                          output_signature=output_signature)\n",
    "# Also, we batchify the data, so the training process is not as memory consuming as if the whole dataset was \n",
    "# loaded into memory.\n",
    "# VideoShape -> (B, F, H, W, C)\n",
    "# train_ds = train_ds.batch(batch_size)\n",
    "train_ds = train_ds.batch(batch_size)\n",
    "\n",
    "# We reproduce this process for the validation and test splits too.\n",
    "val_ds = tf.data.Dataset.from_generator(FrameGenerator(subset_paths['val'], n_frames),\n",
    "                                        output_signature=output_signature)\n",
    "\n",
    "val_ds = val_ds.batch(batch_size)\n",
    "test_ds = tf.data.Dataset.from_generator(FrameGenerator(subset_paths['test'], n_frames),\n",
    "                                         output_signature=output_signature)\n",
    "\n",
    "test_ds = test_ds.batch(batch_size)"
   ]
  },
  {
   "cell_type": "code",
   "execution_count": 21,
   "metadata": {},
   "outputs": [
    {
     "data": {
      "text/plain": [
       "'\\nAUTOTUNE = tf.data.AUTOTUNE\\n\\ntrain_ds = train_ds.cache().shuffle(1000).prefetch(buffer_size = AUTOTUNE)\\nval_ds = val_ds.cache().shuffle(1000).prefetch(buffer_size = AUTOTUNE)\\n'"
      ]
     },
     "execution_count": 21,
     "metadata": {},
     "output_type": "execute_result"
    }
   ],
   "source": [
    "'''\n",
    "AUTOTUNE = tf.data.AUTOTUNE\n",
    "\n",
    "train_ds = train_ds.cache().shuffle(1000).prefetch(buffer_size = AUTOTUNE)\n",
    "val_ds = val_ds.cache().shuffle(1000).prefetch(buffer_size = AUTOTUNE)\n",
    "'''"
   ]
  },
  {
   "cell_type": "code",
   "execution_count": 22,
   "metadata": {},
   "outputs": [
    {
     "name": "stdout",
     "output_type": "stream",
     "text": [
      "Shape of training set of frames: (8, 10, 224, 224, 3)\n",
      "Shape of training labels: (8,)\n",
      "Shape of validation set of frames: (8, 10, 224, 224, 3)\n",
      "Shape of validation labels: (8,)\n"
     ]
    }
   ],
   "source": [
    "# Print the shapes of the data\n",
    "train_frames, train_labels = next(iter(train_ds))\n",
    "print(f'Shape of training set of frames: {train_frames.shape}')\n",
    "print(f'Shape of training labels: {train_labels.shape}')\n",
    "\n",
    "val_frames, val_labels = next(iter(val_ds))\n",
    "print(f'Shape of validation set of frames: {val_frames.shape}')\n",
    "print(f'Shape of validation labels: {val_labels.shape}')"
   ]
  },
  {
   "cell_type": "code",
   "execution_count": 23,
   "metadata": {},
   "outputs": [
    {
     "data": {
      "text/plain": [
       "(None, 224, 224, 3)"
      ]
     },
     "execution_count": 23,
     "metadata": {},
     "output_type": "execute_result"
    }
   ],
   "source": [
    "(None, *train_frames.shape[2:])"
   ]
  },
  {
   "cell_type": "markdown",
   "metadata": {},
   "source": [
    "# 3. Model definition and Training"
   ]
  },
  {
   "cell_type": "code",
   "execution_count": 24,
   "metadata": {},
   "outputs": [
    {
     "name": "stdout",
     "output_type": "stream",
     "text": [
      "Model: \"sequential_1\"\n",
      "_________________________________________________________________\n",
      " Layer (type)                Output Shape              Param #   \n",
      "=================================================================\n",
      " conv_lstm2d_3 (ConvLSTM2D)  (None, None, 224, 224, 6  154624    \n",
      "                             4)                                  \n",
      "                                                                 \n",
      " batch_normalization_2 (Batc  (None, None, 224, 224, 6  256      \n",
      " hNormalization)             4)                                  \n",
      "                                                                 \n",
      " conv_lstm2d_4 (ConvLSTM2D)  (None, None, 224, 224, 6  295168    \n",
      "                             4)                                  \n",
      "                                                                 \n",
      " batch_normalization_3 (Batc  (None, None, 224, 224, 6  256      \n",
      " hNormalization)             4)                                  \n",
      "                                                                 \n",
      " conv_lstm2d_5 (ConvLSTM2D)  (None, None, 224, 224, 6  295168    \n",
      "                             4)                                  \n",
      "                                                                 \n",
      " global_average_pooling3d_1   (None, 64)               0         \n",
      " (GlobalAveragePooling3D)                                        \n",
      "                                                                 \n",
      " flatten_1 (Flatten)         (None, 64)                0         \n",
      "                                                                 \n",
      " dense_2 (Dense)             (None, 32)                2080      \n",
      "                                                                 \n",
      " dense_3 (Dense)             (None, 10)                330       \n",
      "                                                                 \n",
      "=================================================================\n",
      "Total params: 747,882\n",
      "Trainable params: 747,626\n",
      "Non-trainable params: 256\n",
      "_________________________________________________________________\n"
     ]
    }
   ],
   "source": [
    "model = tf.keras.Sequential([\n",
    "    # Construct the input layer with no definite frame size.\n",
    "    tf.keras.layers.InputLayer(input_shape=(None, *train_frames.shape[2:])),\n",
    "    # We will construct 3 `ConvLSTM2D` layers with batch normalization,\n",
    "    tf.keras.layers.ConvLSTM2D(\n",
    "        filters=64,\n",
    "        kernel_size=(3, 3),\n",
    "        padding=\"same\",\n",
    "        return_sequences=True,\n",
    "        activation=\"relu\",\n",
    "    ),\n",
    "    tf.keras.layers.BatchNormalization(),\n",
    "    tf.keras.layers.ConvLSTM2D(\n",
    "        filters=64,\n",
    "        kernel_size=(3, 3),\n",
    "        padding=\"same\",\n",
    "        return_sequences=True,\n",
    "        activation=\"relu\",\n",
    "    ),\n",
    "    tf.keras.layers.BatchNormalization(),\n",
    "    tf.keras.layers.ConvLSTM2D(\n",
    "        filters=64,\n",
    "        kernel_size=(3, 3),\n",
    "        padding=\"same\",\n",
    "        return_sequences=True,\n",
    "        activation=\"relu\",\n",
    "    ),\n",
    "    tf.keras.layers.BatchNormalization(),\n",
    "    tf.keras.layers.GlobalAveragePooling3D(),\n",
    "    tf.keras.layers.Flatten(),\n",
    "    tf.keras.layers.Dense(units=32, activation='relu'),\n",
    "    tf.keras.layers.Dense(units=10, activation='sigmoid')\n",
    "])\n",
    "model.compile(\n",
    "    loss=tf.keras.losses.sparse_categorical_crossentropy, \n",
    "    optimizer=tf.keras.optimizers.Adam(),\n",
    ")\n",
    "\n",
    "model.summary()"
   ]
  },
  {
   "cell_type": "code",
   "execution_count": 29,
   "metadata": {},
   "outputs": [
    {
     "name": "stdout",
     "output_type": "stream",
     "text": [
      "Epoch 1/20\n"
     ]
    },
    {
     "name": "stderr",
     "output_type": "stream",
     "text": [
      "/tmp/ipykernel_30944/4171469665.py:9: UserWarning: `Model.fit_generator` is deprecated and will be removed in a future version. Please use `Model.fit`, which supports generators.\n",
      "  model.fit_generator(\n"
     ]
    },
    {
     "ename": "",
     "evalue": "",
     "output_type": "error",
     "traceback": [
      "\u001b[1;31mCanceled future for execute_request message before replies were done"
     ]
    },
    {
     "ename": "",
     "evalue": "",
     "output_type": "error",
     "traceback": [
      "\u001b[1;31mThe Kernel crashed while executing code in the the current cell or a previous cell. Please review the code in the cell(s) to identify a possible cause of the failure. Click <a href='https://aka.ms/vscodeJupyterKernelCrash'>here</a> for more info. View Jupyter <a href='command:jupyter.viewOutput'>log</a> for further details."
     ]
    }
   ],
   "source": [
    "# Define some callbacks to improve training.\n",
    "early_stopping = tf.keras.callbacks.EarlyStopping(monitor=\"val_loss\", patience=10)\n",
    "reduce_lr = tf.keras.callbacks.ReduceLROnPlateau(monitor=\"val_loss\", patience=5)\n",
    "\n",
    "# Define modifiable training hyperparameters.\n",
    "epochs = 20\n",
    "\n",
    "# Fit the model to the training data using a generator.\n",
    "model.fit_generator(\n",
    "    train_ds,\n",
    "    epochs=epochs,\n",
    "    validation_data=val_ds,\n",
    "    callbacks=[early_stopping, reduce_lr],\n",
    ")"
   ]
  },
  {
   "cell_type": "code",
   "execution_count": null,
   "metadata": {},
   "outputs": [],
   "source": []
  }
 ],
 "metadata": {
  "kernelspec": {
   "display_name": "dev-ml-environment",
   "language": "python",
   "name": "python3"
  },
  "language_info": {
   "codemirror_mode": {
    "name": "ipython",
    "version": 3
   },
   "file_extension": ".py",
   "mimetype": "text/x-python",
   "name": "python",
   "nbconvert_exporter": "python",
   "pygments_lexer": "ipython3",
   "version": "3.10.10"
  },
  "orig_nbformat": 4
 },
 "nbformat": 4,
 "nbformat_minor": 2
}
